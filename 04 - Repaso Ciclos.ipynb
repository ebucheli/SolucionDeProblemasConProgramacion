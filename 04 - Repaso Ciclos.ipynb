{
 "cells": [
  {
   "cell_type": "markdown",
   "metadata": {},
   "source": [
    "# Ejercicios"
   ]
  },
  {
   "cell_type": "markdown",
   "metadata": {},
   "source": [
    "1. Escribe un programa que use un ciclo para imprimir los números del 40 al 0, pero que se salte los múltiplos de 4. Utiliza el comando `continue`"
   ]
  },
  {
   "cell_type": "code",
   "execution_count": null,
   "metadata": {},
   "outputs": [],
   "source": []
  },
  {
   "cell_type": "markdown",
   "metadata": {},
   "source": [
    "2. Escribe un programa que itere sobre los números 1 a 50. Para múltiplos de tres haz que escriba \"Fizz\" y para múltiplos de 5 haz que escriba \"Buzz\" si es múltiplo de los dos haz que escriba \"FizzBuzz\"\n",
    "\n",
    "Ejemplo de salida:\n",
    "```\n",
    "1\n",
    "2\n",
    "fizz\n",
    "4\n",
    "buzz\n",
    "...\n",
    "```"
   ]
  },
  {
   "cell_type": "code",
   "execution_count": null,
   "metadata": {},
   "outputs": [],
   "source": []
  },
  {
   "cell_type": "markdown",
   "metadata": {},
   "source": [
    "3. Escribe un programa que cuente la cantidad de números pares e impares en una lista,\n",
    "\n",
    "Entrada prueba:\n",
    "\n",
    "`x = [1,2,3,4,5,6,7]`\n",
    "\n",
    "\n",
    "Salida esperada:\n",
    "```\n",
    "Cantidad de números pares: 3\n",
    "Cantidad de números impares: 4\n",
    "```"
   ]
  },
  {
   "cell_type": "code",
   "execution_count": null,
   "metadata": {},
   "outputs": [],
   "source": []
  },
  {
   "cell_type": "markdown",
   "metadata": {},
   "source": [
    "4. Escribe un código que imprima el siguiente texto utilizando ciclos anidados\n",
    "\n",
    "```\n",
    "*\n",
    "* *\n",
    "* * *\n",
    "* * * *\n",
    "* * * * *\n",
    "* * * *\n",
    "* * *\n",
    "* *\n",
    "*\n",
    "```\n",
    "\n",
    "Pista, vas a necesitar hacer dos ciclos de `for` anidados (4 `for`'s en total). Los primeros dos son para las primeras 5 líneas y los siguientes dos para las cuatro restantes."
   ]
  },
  {
   "cell_type": "code",
   "execution_count": null,
   "metadata": {},
   "outputs": [],
   "source": []
  },
  {
   "cell_type": "markdown",
   "metadata": {},
   "source": [
    "5. Escribe un programa que utilice un ciclo para encontrar el número más grande de una lista, el número más pequeño de una lista, la suma de los valores y el promedio de los valores (los tienes que encontrar usando ciclos, no uses funciones coo)."
   ]
  },
  {
   "cell_type": "code",
   "execution_count": null,
   "metadata": {},
   "outputs": [],
   "source": []
  },
  {
   "cell_type": "markdown",
   "metadata": {},
   "source": [
    "6. Escribe un programa que tome dos valores, m (filas) y n (columnas) y escriba una matriz de tamaño (m x n) donde cada elemento de la matriz sea la multiplicacion de la fila y columna actual. Toma la primera fila y columna como índice 1.\n",
    "\n",
    "ejemplo\n",
    "entrada:\n",
    "```\n",
    "m = 3\n",
    "n = 4\n",
    "```\n",
    "\n",
    "Salida Esperada:\n",
    "\n",
    "```\n",
    "1 2 3 4\n",
    "2 4 6 8\n",
    "3 6 9 12\n",
    "```"
   ]
  },
  {
   "cell_type": "code",
   "execution_count": null,
   "metadata": {},
   "outputs": [],
   "source": []
  },
  {
   "cell_type": "markdown",
   "metadata": {},
   "source": [
    "7. Escribe un programa que tome una lista y regrese la lista al revés.\n",
    "\n",
    "Pista 1: Crea una nueva lista vacía para empezar.\n",
    "\n",
    "Pista 2: No iteres sobre la lista sino sobre el número de valores en la lista (utiliza la función `range()` junto con la función `len()`)\n",
    "\n",
    "Pista 3: Para guardar valores en la lista nueva recuerda que puedes usar negativos para conseguir los valores del final hacia el principio. Es decir, para la lista `a = [1,2,3,4,5]`, `a[-1]` es `5` `a[-2]` es `4` etc."
   ]
  },
  {
   "cell_type": "code",
   "execution_count": null,
   "metadata": {},
   "outputs": [],
   "source": []
  },
  {
   "cell_type": "markdown",
   "metadata": {},
   "source": [
    "8. Escribe un programa que utilice un ciclo para escribir los primeros `n` (preguntar al usuario) números de la secuenca de Fibonacci. La secuencia de Fibonacci empieza con 0 y 1 y cada nuevo número es la suma de los dos anteriores.\n",
    "\n",
    "Pista 1: Utiliza una cadena de `if` para los primeros dos números y de ahí empieza a sumarlos actualizar. \n",
    "\n",
    "Pista 2: empieza con dos variables, `a = 0` y `b = 1` y actualízalas conforme avance el ciclo."
   ]
  },
  {
   "cell_type": "code",
   "execution_count": null,
   "metadata": {},
   "outputs": [],
   "source": []
  }
 ],
 "metadata": {
  "kernelspec": {
   "display_name": "Python 3",
   "language": "python",
   "name": "python3"
  },
  "language_info": {
   "codemirror_mode": {
    "name": "ipython",
    "version": 3
   },
   "file_extension": ".py",
   "mimetype": "text/x-python",
   "name": "python",
   "nbconvert_exporter": "python",
   "pygments_lexer": "ipython3",
   "version": "3.6.5"
  }
 },
 "nbformat": 4,
 "nbformat_minor": 2
}
