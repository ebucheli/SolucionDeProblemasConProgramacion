{
 "cells": [
  {
   "cell_type": "markdown",
   "metadata": {},
   "source": [
    "# Clase 1: Introducción"
   ]
  },
  {
   "cell_type": "markdown",
   "metadata": {},
   "source": [
    "Hoy vamos a repasar los conceptos más básicos de Python. Utilizamos Python 3, que tiene algunas diferencias con Python 2."
   ]
  },
  {
   "cell_type": "markdown",
   "metadata": {},
   "source": [
    "### 1.1 Print"
   ]
  },
  {
   "cell_type": "markdown",
   "metadata": {},
   "source": [
    "Utilizamos el comando `print` para escribir mensajes en la consola. Empezemos imprimiento el mensaje `Hello World!`."
   ]
  },
  {
   "cell_type": "code",
   "execution_count": 1,
   "metadata": {},
   "outputs": [
    {
     "name": "stdout",
     "output_type": "stream",
     "text": [
      "Hello World!\n"
     ]
    }
   ],
   "source": [
    "print('Hello World!')"
   ]
  },
  {
   "cell_type": "markdown",
   "metadata": {},
   "source": [
    "### 1.2 Input"
   ]
  },
  {
   "cell_type": "markdown",
   "metadata": {},
   "source": [
    "Si queremos darle información a la computadora podemos usar el comando `input`."
   ]
  },
  {
   "cell_type": "code",
   "execution_count": 5,
   "metadata": {},
   "outputs": [
    {
     "name": "stdout",
     "output_type": "stream",
     "text": [
      "Por favor escribe tu nombre: Edoardo\n",
      "Hola Edoardo !\n"
     ]
    }
   ],
   "source": [
    "my_name = input('Por favor escribe tu nombre: ')\n",
    "print('Hola',my_name,'!')"
   ]
  },
  {
   "cell_type": "markdown",
   "metadata": {},
   "source": [
    "### 1.3 Uso de variables"
   ]
  },
  {
   "cell_type": "markdown",
   "metadata": {},
   "source": [
    "En el ejemplo anterior usamos la palabra `my_name` para guardar el nombre que escribimos. A estos contenedores les llamamos variables. Las variables se encargan de guardar valores pero podemos cambiar su contenido en cualquier momento."
   ]
  },
  {
   "cell_type": "code",
   "execution_count": 6,
   "metadata": {},
   "outputs": [
    {
     "name": "stdout",
     "output_type": "stream",
     "text": [
      "5\n",
      "3\n"
     ]
    }
   ],
   "source": [
    "x = 5\n",
    "print(x)\n",
    "x = 3\n",
    "print(x)"
   ]
  },
  {
   "cell_type": "markdown",
   "metadata": {},
   "source": [
    "En el ejemplo anterior usamos dos veces el comando `print(x)` pero produjo diferentes resultados. Esto es porque cambiamos el valor de `x` antes de volver a escribir el comando.\n",
    "\n",
    "Podemos crear muchas variables y podemos crear nuevos valores con operaciones matemáticas."
   ]
  },
  {
   "cell_type": "code",
   "execution_count": 8,
   "metadata": {},
   "outputs": [
    {
     "name": "stdout",
     "output_type": "stream",
     "text": [
      "8\n"
     ]
    }
   ],
   "source": [
    "a = 5\n",
    "b = 3\n",
    "c = a+b\n",
    "print(c)"
   ]
  },
  {
   "cell_type": "markdown",
   "metadata": {},
   "source": [
    "Hagamos un par de ejemplos más."
   ]
  },
  {
   "cell_type": "code",
   "execution_count": 9,
   "metadata": {},
   "outputs": [
    {
     "name": "stdout",
     "output_type": "stream",
     "text": [
      "5\n",
      "4\n",
      "5\n"
     ]
    }
   ],
   "source": [
    "a = 5\n",
    "print(a)\n",
    "a = a - 1 \n",
    "print(a)\n",
    "a = a + 1\n",
    "print(a)"
   ]
  },
  {
   "cell_type": "markdown",
   "metadata": {},
   "source": [
    "### 1.4 Operadores matemáticos"
   ]
  },
  {
   "cell_type": "markdown",
   "metadata": {},
   "source": [
    "#### 1.4.1: Operadores Aritméticos:\n",
    "En los ejemplos anteriores usamos los símbolos `+` y `-` para hacer operaciones matemáticas. Estos son operadores aritméticos, pero no son los únicos:\n",
    "\n",
    "1. Suma: `+`\n",
    "2. Resta: `-`\n",
    "3. Multiplicación: `*`\n",
    "4. División: `/`\n",
    "5. Potencia: `**`\n",
    "6. Residuo (Modulus): `%`"
   ]
  },
  {
   "cell_type": "code",
   "execution_count": 11,
   "metadata": {},
   "outputs": [
    {
     "name": "stdout",
     "output_type": "stream",
     "text": [
      "a + b =  7\n",
      "a - b =  3\n",
      "a * b =  10\n",
      "a / b =  2.5\n",
      "a ** b =  25\n",
      "a % b =  1\n"
     ]
    }
   ],
   "source": [
    "a = 5\n",
    "b = 2\n",
    "\n",
    "print(\"a + b = \",a+b)\n",
    "print(\"a - b = \",a-b)\n",
    "print(\"a * b = \",a*b)\n",
    "print(\"a / b = \",a/b)\n",
    "print(\"a ** b = \",a**b)\n",
    "print(\"a % b = \",a%b)"
   ]
  },
  {
   "cell_type": "markdown",
   "metadata": {},
   "source": [
    "Estudiemos un poco más el operador de residuo. En una división si no encontramos los puntos decimales nos quedamos con un residuo. El operador `%` sirve para obtener este residuos. En el ejemplo anterior hicimos:\n",
    "\n",
    "`5 % 2` y el resultado fue `1`.\n",
    "\n",
    "Podemos pensarlo como que dividimos `5 / 2` pero en vez de calcular la división completa encontramos el siguente divisor de 5, es decir 4. Le restamos 4 a 5 y obtenemos el residuo 1.\n",
    "\n",
    "Veamos otros ejemplos."
   ]
  },
  {
   "cell_type": "code",
   "execution_count": 17,
   "metadata": {},
   "outputs": [
    {
     "name": "stdout",
     "output_type": "stream",
     "text": [
      "4 % 2 =  0\n",
      "10 % 2 =  0\n",
      "10 % 3 =  1\n",
      "11 % 3 =  2\n",
      "12 % 3 =  0\n",
      "13 % 3 =  1\n",
      "14 % 3 =  2\n"
     ]
    }
   ],
   "source": [
    "print('4 % 2 = ', 4 % 2)\n",
    "print('10 % 2 = ', 10 % 2)\n",
    "print('10 % 3 = ', 10 % 3)\n",
    "print('11 % 3 = ', 11 % 3)\n",
    "print('12 % 3 = ', 12 % 3)\n",
    "print('13 % 3 = ', 13 % 3)\n",
    "print('14 % 3 = ', 14 % 3)"
   ]
  },
  {
   "cell_type": "markdown",
   "metadata": {},
   "source": [
    "En el primer ejemplo vemos que `4 % 2 = 0`, esto es porque 4 es divisible entre 2 y no tenemos nigún residuo. Lo mismo sucede en el segundo ejemplo. \n",
    "\n",
    "En el tercer ejemplo el resultado es uno. El número más cercano anterior divisible entre 3 es 9, restamos 9 a 10 (`10-9`) y obtenemos 1. Lo mismo aplica con el siguiente ejemplo, pero en este caso como estamos dividiendo `11 / 3` entonces restamos 9 a 11 (`11-9`). \n",
    "\n",
    "Pero algo cambia cuando llegamos a 12, como 12 es divisible entre 3, entonces el resultado es 0 otra vez. Cuando dividimos 13 el número más cercano anterior divisible entre 3 es ahora 12 en lugar de 9. Por lo que ahora restamos 12 a 13 en lugar de 9.\n",
    "\n",
    "¿Notas un patrón? Qué crees que pasaría si calculamos `15 % 3` ó `29 % 3`."
   ]
  },
  {
   "cell_type": "markdown",
   "metadata": {},
   "source": [
    "Extras: \n",
    "1. ¿Para que crees que sirve el operador `%`?\n",
    "1. El código en los ejemplos anteriores se veía un poco repetitivo, ¿sabes por qué había que escribirlo así? Si no se te ocurre intenta ver cuál es el problema con el siguiente código"
   ]
  },
  {
   "cell_type": "code",
   "execution_count": 19,
   "metadata": {},
   "outputs": [
    {
     "name": "stdout",
     "output_type": "stream",
     "text": [
      "5 + 2 =  6\n",
      "5 + 2 =  3\n"
     ]
    }
   ],
   "source": [
    "print('5 + 2 = ',5+1)\n",
    "print('5 + 2 = ',5-2)"
   ]
  },
  {
   "cell_type": "markdown",
   "metadata": {},
   "source": [
    "#### 1.4.2 Operadores Lógicos\n",
    "\n",
    "Otro tipo importante de operadores son los operadores lógicos:\n",
    "\n",
    "1. Igual a: `==` Igual a\n",
    "1. Menor que: `<`\n",
    "1. Mayor que: `>`\n",
    "1. Menor o igual a `<=`\n",
    "1. Mayor o igual a `>=`\n",
    "1. Diferente a `!=`\n",
    "\n",
    "El resultado de estos operadores siempre es `True` o `False`."
   ]
  },
  {
   "cell_type": "code",
   "execution_count": 21,
   "metadata": {},
   "outputs": [
    {
     "name": "stdout",
     "output_type": "stream",
     "text": [
      "a == b: False\n",
      "a < b: False\n",
      "a > b: True\n",
      "a <= b: False\n",
      "a >= b: True\n",
      "a != b: True\n"
     ]
    }
   ],
   "source": [
    "a = 5\n",
    "b = 4\n",
    "\n",
    "print('a == b:',a==b)\n",
    "print('a < b:', a<b)\n",
    "print('a > b:', a>b)\n",
    "print('a <= b:', a<=b)\n",
    "print('a >= b:', a>=b)\n",
    "print('a != b:', a!=b)"
   ]
  },
  {
   "cell_type": "markdown",
   "metadata": {},
   "source": [
    "Es muy importante la diferencia entre `=` y `==`.\n",
    "\n",
    "1. `=` es para asignar un valor\n",
    "\n",
    "    `x = 5` sirve para asignar el valor de 5 a `x`\n",
    "\n",
    "\n",
    "1. `==` es para hacer una comparación\n",
    "\n",
    "    `x == 5` pregunta si `x` es igual a 5. Dependiendo del valor de equis eso va a regresar el valor `True` o `False`."
   ]
  },
  {
   "cell_type": "markdown",
   "metadata": {},
   "source": [
    "Existen más tipos de operadores pero los estudiaremos más adelante."
   ]
  },
  {
   "cell_type": "markdown",
   "metadata": {},
   "source": [
    "### 1.5 Tipos de datos"
   ]
  },
  {
   "cell_type": "markdown",
   "metadata": {},
   "source": [
    "Al principio, usamos una variable para guardar un nombre y después usamos variables para guardar valores numéricos.\n",
    "\n",
    "Los tipos de datos son tipos distintos de variables que sirven para guardar diferentes cosas. Repasemos algunos de los tipos más comunes:\n",
    "\n",
    "1. `int`: Números enteros\n",
    "1. `float`: Números con decimal\n",
    "1. `bool`: True o False\n",
    "1. `str`: Cadena de caracteres\n",
    "\n",
    "Podemos usar el comando `type` para que Python nos diga el tipo de variable que estamos usando"
   ]
  },
  {
   "cell_type": "code",
   "execution_count": 27,
   "metadata": {},
   "outputs": [
    {
     "name": "stdout",
     "output_type": "stream",
     "text": [
      "<class 'int'>\n",
      "<class 'float'>\n",
      "<class 'bool'>\n",
      "<class 'str'>\n"
     ]
    }
   ],
   "source": [
    "a = 1\n",
    "print(type(a))\n",
    "b = 2.5\n",
    "print(type(b))\n",
    "c = True\n",
    "print(type(c))\n",
    "d = 'perro'\n",
    "print(type(d))"
   ]
  },
  {
   "cell_type": "markdown",
   "metadata": {},
   "source": [
    "Una lista guarda el valor de varias variables que pueden ser de distintos tipos. Podemos acceder a sus valores con corchetes `[]` y el índice. Nota que empezamos en `0`. Más adelante estudiaremos las listas."
   ]
  },
  {
   "cell_type": "code",
   "execution_count": 23,
   "metadata": {},
   "outputs": [
    {
     "name": "stdout",
     "output_type": "stream",
     "text": [
      "1\n",
      "perro\n",
      "5.2\n"
     ]
    }
   ],
   "source": [
    "lista_1 = [1,'perro',5.2]\n",
    "print(lista_1[0])\n",
    "print(lista_1[1])\n",
    "print(lista_1[2])"
   ]
  },
  {
   "cell_type": "markdown",
   "metadata": {},
   "source": [
    "### Ejercicio\n",
    "\n",
    "Utiliza los conceptos vistos en clase para hacer los siguientes programas"
   ]
  },
  {
   "cell_type": "markdown",
   "metadata": {},
   "source": [
    "1. Escribe un programa que pregunte el diámetro de un circulo y calcule su área y perímetro"
   ]
  },
  {
   "cell_type": "code",
   "execution_count": null,
   "metadata": {},
   "outputs": [],
   "source": [
    "# Escribe aquí tu código\n",
    "\n"
   ]
  },
  {
   "cell_type": "markdown",
   "metadata": {},
   "source": [
    "2. Escribe un programa que pregunte el nombre y la edad de una persona y haga un saludo personalizado."
   ]
  },
  {
   "cell_type": "code",
   "execution_count": null,
   "metadata": {},
   "outputs": [],
   "source": [
    "# Escribe aquí tu código\n",
    "\n"
   ]
  }
 ],
 "metadata": {
  "kernelspec": {
   "display_name": "Python 3",
   "language": "python",
   "name": "python3"
  },
  "language_info": {
   "codemirror_mode": {
    "name": "ipython",
    "version": 3
   },
   "file_extension": ".py",
   "mimetype": "text/x-python",
   "name": "python",
   "nbconvert_exporter": "python",
   "pygments_lexer": "ipython3",
   "version": "3.6.5"
  }
 },
 "nbformat": 4,
 "nbformat_minor": 2
}
