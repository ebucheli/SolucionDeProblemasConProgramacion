{
 "cells": [
  {
   "cell_type": "markdown",
   "metadata": {},
   "source": [
    "# Uso de diccionarios en Python"
   ]
  },
  {
   "cell_type": "markdown",
   "metadata": {},
   "source": [
    "Hoy vamos a usar un nuevo tipo de dato en Python, los diccionarios.\n",
    "\n",
    "Los diccionarios sirven para guardar todo tipo de información. A diferencia de una lista, esta información no está ordenada y accedemos a ella a través de llaves. Cada que damos una llave a un diccionario, obtenemos un valor de vuelta.\n",
    "\n",
    "Para ilustrar esto empecemos con un ejemplo de directorio telefónico."
   ]
  },
  {
   "cell_type": "code",
   "execution_count": 3,
   "metadata": {},
   "outputs": [],
   "source": [
    "contacts = {'bill': '353-1234', 'rich': '269-1234', 'jane':'352-1234'}"
   ]
  },
  {
   "cell_type": "markdown",
   "metadata": {},
   "source": [
    "Puedo acceder a cualquiera de mis contactos con corchetes,"
   ]
  },
  {
   "cell_type": "code",
   "execution_count": 4,
   "metadata": {},
   "outputs": [
    {
     "data": {
      "text/plain": [
       "'353-1234'"
      ]
     },
     "execution_count": 4,
     "metadata": {},
     "output_type": "execute_result"
    }
   ],
   "source": [
    "contacts['bill']"
   ]
  },
  {
   "cell_type": "code",
   "execution_count": 5,
   "metadata": {},
   "outputs": [
    {
     "data": {
      "text/plain": [
       "'352-1234'"
      ]
     },
     "execution_count": 5,
     "metadata": {},
     "output_type": "execute_result"
    }
   ],
   "source": [
    "contacts['jane']"
   ]
  },
  {
   "cell_type": "markdown",
   "metadata": {},
   "source": [
    "También puedo imprimir el diccionario completo para ver toda la información."
   ]
  },
  {
   "cell_type": "code",
   "execution_count": 7,
   "metadata": {},
   "outputs": [
    {
     "data": {
      "text/plain": [
       "{'bill': '353-1234', 'rich': '269-1234', 'jane': '352-1234'}"
      ]
     },
     "execution_count": 7,
     "metadata": {},
     "output_type": "execute_result"
    }
   ],
   "source": [
    "contacts"
   ]
  },
  {
   "cell_type": "markdown",
   "metadata": {},
   "source": [
    "Puedo agregar valores nuevos como lo hacía con una lista. Después de este paso, el teléfono de Ted está guardado en mi diccionario."
   ]
  },
  {
   "cell_type": "code",
   "execution_count": 10,
   "metadata": {},
   "outputs": [
    {
     "name": "stdout",
     "output_type": "stream",
     "text": [
      "{'bill': '353-1234', 'rich': '269-1234', 'jane': '352-1234', 'ted': '345-2111'}\n"
     ]
    }
   ],
   "source": [
    "contacts['ted'] = '345-2111'\n",
    "print(contacts)"
   ]
  },
  {
   "cell_type": "markdown",
   "metadata": {},
   "source": [
    "Con `len()` puedo ver el número de elementos en el diccionario,"
   ]
  },
  {
   "cell_type": "code",
   "execution_count": 12,
   "metadata": {},
   "outputs": [
    {
     "name": "stdout",
     "output_type": "stream",
     "text": [
      "El número de elementos en el diccionario es  4\n"
     ]
    }
   ],
   "source": [
    "print(\"El número de elementos en el diccionario es \",len(contacts))"
   ]
  },
  {
   "cell_type": "markdown",
   "metadata": {},
   "source": [
    "Con `in` puedo buscar si una llave está en mi diccionario,"
   ]
  },
  {
   "cell_type": "code",
   "execution_count": 15,
   "metadata": {},
   "outputs": [
    {
     "data": {
      "text/plain": [
       "True"
      ]
     },
     "execution_count": 15,
     "metadata": {},
     "output_type": "execute_result"
    }
   ],
   "source": [
    "'bill' in contacts"
   ]
  },
  {
   "cell_type": "code",
   "execution_count": 16,
   "metadata": {},
   "outputs": [
    {
     "data": {
      "text/plain": [
       "False"
      ]
     },
     "execution_count": 16,
     "metadata": {},
     "output_type": "execute_result"
    }
   ],
   "source": [
    "'mary' in contacts"
   ]
  },
  {
   "cell_type": "markdown",
   "metadata": {},
   "source": [
    "Y puedo hacer un ciclo `for` de manera muy sencilla"
   ]
  },
  {
   "cell_type": "code",
   "execution_count": 17,
   "metadata": {},
   "outputs": [
    {
     "name": "stdout",
     "output_type": "stream",
     "text": [
      "bill 353-1234\n",
      "rich 269-1234\n",
      "jane 352-1234\n",
      "ted 345-2111\n"
     ]
    }
   ],
   "source": [
    "for key in contacts:\n",
    "    print(key, contacts[key])"
   ]
  },
  {
   "cell_type": "markdown",
   "metadata": {},
   "source": [
    "También existen los comandos `.items()`, `.keys()` y `.values()`"
   ]
  },
  {
   "cell_type": "code",
   "execution_count": 19,
   "metadata": {},
   "outputs": [
    {
     "name": "stdout",
     "output_type": "stream",
     "text": [
      "El diccionario tiene los elementos  dict_items([('bill', '353-1234'), ('rich', '269-1234'), ('jane', '352-1234'), ('ted', '345-2111')])\n",
      "El diccionario tiene las llaves dict_keys(['bill', 'rich', 'jane', 'ted'])\n",
      "El diccionario tiene los valores dict_values(['353-1234', '269-1234', '352-1234', '345-2111'])\n"
     ]
    }
   ],
   "source": [
    "print(\"El diccionario tiene los elementos \",contacts.items())\n",
    "print(\"El diccionario tiene las llaves\", contacts.keys())\n",
    "print(\"El diccionario tiene los valores\", contacts.values())"
   ]
  },
  {
   "cell_type": "markdown",
   "metadata": {},
   "source": [
    "Cualquiera de los anteriores los puedo usar para hacer un ciclo for."
   ]
  },
  {
   "cell_type": "code",
   "execution_count": 22,
   "metadata": {},
   "outputs": [
    {
     "name": "stdout",
     "output_type": "stream",
     "text": [
      "bill 353-1234\n",
      "rich 269-1234\n",
      "jane 352-1234\n",
      "ted 345-2111\n"
     ]
    }
   ],
   "source": [
    "for key,value in contacts.items():\n",
    "    print(key, value)"
   ]
  },
  {
   "cell_type": "markdown",
   "metadata": {},
   "source": [
    "Un diccionario puede tener todo tipo de llaves y valores,"
   ]
  },
  {
   "cell_type": "code",
   "execution_count": 24,
   "metadata": {},
   "outputs": [],
   "source": [
    "my_dict = {\n",
    "    'key1':[1,2,3,4,5],\n",
    "    'id':{'new':'dict','inside':'thedict'},\n",
    "    1:'los ints pueden ser llaves también',\n",
    "}"
   ]
  },
  {
   "cell_type": "markdown",
   "metadata": {},
   "source": [
    "### Ejemplo: Contar las palabras que se repiten"
   ]
  },
  {
   "cell_type": "markdown",
   "metadata": {},
   "source": [
    "Como ejercicio hagamos un programa que tome una oración y encuentre cuántas veces se repiten las palabras."
   ]
  },
  {
   "cell_type": "code",
   "execution_count": 28,
   "metadata": {},
   "outputs": [],
   "source": [
    "speech = \"to be or not to be\"\n",
    "speech_list = speech.split(\" \")"
   ]
  },
  {
   "cell_type": "code",
   "execution_count": 29,
   "metadata": {},
   "outputs": [
    {
     "name": "stdout",
     "output_type": "stream",
     "text": [
      "{'to': 2, 'be': 2, 'or': 1, 'not': 1}\n"
     ]
    }
   ],
   "source": [
    "word_count_dict = {}\n",
    "\n",
    "for word in speech_list:\n",
    "    if word in word_count_dict:\n",
    "        word_count_dict[word] += 1\n",
    "    else:\n",
    "        word_count_dict[word] = 1\n",
    "        \n",
    "print(word_count_dict)"
   ]
  },
  {
   "cell_type": "markdown",
   "metadata": {},
   "source": [
    "### Ejercicios:"
   ]
  },
  {
   "cell_type": "markdown",
   "metadata": {},
   "source": [
    "\\1. Escribe un programa que regrese un diccionario cuyos elementos sean {$x$:$x^2$} de 1 a una longitud `n` dada. Es decir para `n=5` el programa debe generar el dicionario `{1:1,2:4,3:9,4:16,5:25}`"
   ]
  },
  {
   "cell_type": "code",
   "execution_count": null,
   "metadata": {},
   "outputs": [],
   "source": []
  },
  {
   "cell_type": "markdown",
   "metadata": {},
   "source": [
    "\\2. Con el ejemplo anterior, ahora escribe un programa que regrese la suma de las llaves y la suma de los valores."
   ]
  },
  {
   "cell_type": "code",
   "execution_count": null,
   "metadata": {},
   "outputs": [],
   "source": []
  },
  {
   "cell_type": "markdown",
   "metadata": {},
   "source": [
    "\\3. Escribe un programa que tome dos listas y genere un nuevo diccionario donde las llaves sean la primera lista y los valores la segunda."
   ]
  },
  {
   "cell_type": "code",
   "execution_count": 31,
   "metadata": {},
   "outputs": [],
   "source": []
  },
  {
   "cell_type": "markdown",
   "metadata": {},
   "source": [
    "\\4. Ahora escribe un programa que voltee los valores, de my_dict. Es decir que las llaves ahora sean los valores y viceversa."
   ]
  },
  {
   "cell_type": "code",
   "execution_count": null,
   "metadata": {},
   "outputs": [],
   "source": []
  },
  {
   "cell_type": "markdown",
   "metadata": {},
   "source": [
    "5\\. Escribe un programa que combine dos diccionarios, si tienen valores en común que no los duplique"
   ]
  },
  {
   "cell_type": "code",
   "execution_count": null,
   "metadata": {},
   "outputs": [],
   "source": []
  }
 ],
 "metadata": {
  "kernelspec": {
   "display_name": "Python 3",
   "language": "python",
   "name": "python3"
  },
  "language_info": {
   "codemirror_mode": {
    "name": "ipython",
    "version": 3
   },
   "file_extension": ".py",
   "mimetype": "text/x-python",
   "name": "python",
   "nbconvert_exporter": "python",
   "pygments_lexer": "ipython3",
   "version": "3.6.7"
  }
 },
 "nbformat": 4,
 "nbformat_minor": 2
}
