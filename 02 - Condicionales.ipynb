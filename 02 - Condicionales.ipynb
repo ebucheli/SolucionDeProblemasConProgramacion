{
 "cells": [
  {
   "cell_type": "markdown",
   "metadata": {},
   "source": [
    "# Clase 2: Funciones y Estructuras de Decisión"
   ]
  },
  {
   "cell_type": "markdown",
   "metadata": {},
   "source": [
    "### 2.1: Funciones"
   ]
  },
  {
   "cell_type": "markdown",
   "metadata": {},
   "source": [
    "Si queremos calcular cosas más complejas podemos utilizar funciones. Antes de aprender a hacer las nuestras podemos usar un módulo para usar funciones que ya fueron programadas por alguien más."
   ]
  },
  {
   "cell_type": "code",
   "execution_count": 2,
   "metadata": {},
   "outputs": [],
   "source": [
    "import math"
   ]
  },
  {
   "cell_type": "code",
   "execution_count": 9,
   "metadata": {},
   "outputs": [],
   "source": [
    "x = math.pi\n",
    "\n",
    "# math.cos() usa un número en radianes\n",
    "y = math.cos(x)\n",
    "\n",
    "print(y)"
   ]
  },
  {
   "cell_type": "markdown",
   "metadata": {},
   "source": [
    "Para usar una función siempre usamos la misma nomenclatura,\n",
    "\n",
    "`nombre_de_variable` = `nombre_de_la_funcion`(`argumento1`],`argumento2`,`...`)\n",
    "\n",
    "En general las funciones regresan un valor que podemos guardar en una variable nueva o anteriormente creada. Este no es siempre el caso pero vermos ejemplos de funciones sin valor de regreso en otra sesión.\n",
    "\n",
    "Veamos un ejemplo con más de un argumento. La función `math.pow()` utiliza dos argumentos y regresa el primero a la potencia del segundo. Nota que los argumento no son necesariamente variables, pueden ser un valor específico."
   ]
  },
  {
   "cell_type": "code",
   "execution_count": 13,
   "metadata": {},
   "outputs": [
    {
     "name": "stdout",
     "output_type": "stream",
     "text": [
      "16.0\n"
     ]
    }
   ],
   "source": [
    "x = 2\n",
    "\n",
    "y = math.pow(x,4)\n",
    "\n",
    "print(y)"
   ]
  },
  {
   "cell_type": "markdown",
   "metadata": {},
   "source": [
    "Otros ejemplos de funciones útiles del módulo `math` incluyen,\n",
    "\n",
    "    1.`math.e` la constante e\n",
    "\n",
    "    2.`math.exp` la operación e^x\n",
    "    \n",
    "    3.`math.ceil` rendondear un decimal hacia arriba\n",
    "    \n",
    "    4. `math.floor` redondear un decimal hacia abajo`\n",
    "    \n",
    "También existen funciones que ya están incluidas en Python como:\n",
    "\n",
    "1. `min`: valor mínimo de una lista\n",
    "1. `max`: valor máximo de una lista\n",
    "1. `abs`: valor absoluto de un número real o magnitud de un número complejo"
   ]
  },
  {
   "cell_type": "markdown",
   "metadata": {},
   "source": [
    "### 2.2: El comando `if`"
   ]
  },
  {
   "cell_type": "markdown",
   "metadata": {},
   "source": [
    "Una de las cosas más importante que se requieren cuando programamos es hacer decisiones dependiendo de el valor de una variable. \n",
    "\n",
    "El comando `if` se puede usar para eso, veamos cómo se utiliza."
   ]
  },
  {
   "cell_type": "code",
   "execution_count": 22,
   "metadata": {},
   "outputs": [
    {
     "name": "stdout",
     "output_type": "stream",
     "text": [
      "X es mayor a 2\n"
     ]
    }
   ],
   "source": [
    "x = 10\n",
    "\n",
    "if x > 2:\n",
    "    print(\"X es mayor a 2\")"
   ]
  },
  {
   "cell_type": "markdown",
   "metadata": {},
   "source": [
    "En el caso anterior, el valor de `x` era 10 y la condición era que x fuera mayor a 2. Como la condición fue cierta se ejecutó el código indentado.\n",
    "\n",
    "ES MUY IMPORTANTE USAR LA INDENTACIÓN CORRECTAMENTE\n",
    "\n",
    "Veamos otros ejemplos."
   ]
  },
  {
   "cell_type": "code",
   "execution_count": 23,
   "metadata": {},
   "outputs": [],
   "source": [
    "x = 10\n",
    "\n",
    "if x < 5:\n",
    "    print(x)"
   ]
  },
  {
   "cell_type": "markdown",
   "metadata": {},
   "source": [
    "En este caso no se imprimió nada porque la condición no se cumplió. Podemos poner más de una línea dentro del `if` pero si usamos la indentación de manera correcta pueden ocurrir cosas extrañas."
   ]
  },
  {
   "cell_type": "code",
   "execution_count": 26,
   "metadata": {},
   "outputs": [
    {
     "name": "stdout",
     "output_type": "stream",
     "text": [
      "El número es menor que 5\n",
      "El valor del número es  3\n"
     ]
    }
   ],
   "source": [
    "x = 3\n",
    "\n",
    "if x < 5:\n",
    "    print('El número es menor que 5')\n",
    "    print('El valor del número es ',x)"
   ]
  },
  {
   "cell_type": "code",
   "execution_count": 28,
   "metadata": {},
   "outputs": [],
   "source": [
    "x = 10\n",
    "\n",
    "if x < 5:\n",
    "    print('El número es menor que 5')\n",
    "    print('El valor del número es ',x)"
   ]
  },
  {
   "cell_type": "code",
   "execution_count": 29,
   "metadata": {},
   "outputs": [
    {
     "name": "stdout",
     "output_type": "stream",
     "text": [
      "El valor del número es  10\n"
     ]
    }
   ],
   "source": [
    "x = 10\n",
    "\n",
    "if x < 5:\n",
    "    print('El número es menor que 5')\n",
    "print('El valor del número es ',x)"
   ]
  },
  {
   "cell_type": "markdown",
   "metadata": {},
   "source": [
    "En el segundo caso del ejemplo anterior no se imprimió nada porque las dos líneas estaban indentadas, eso significa que solo se ejecutan si el número es menor que 5. En el tercer caso, como la segunda línea después del `if` no estaba indentada, sí se ejecutó aunque la condición no fue cierta.\n",
    "\n",
    "Podemos además anidar `if`s para revisar más de una condición."
   ]
  },
  {
   "cell_type": "code",
   "execution_count": 31,
   "metadata": {},
   "outputs": [
    {
     "name": "stdout",
     "output_type": "stream",
     "text": [
      "Perro\n"
     ]
    }
   ],
   "source": [
    "x = 3\n",
    "y = 6\n",
    "\n",
    "if x == 3:\n",
    "    if y != 10:\n",
    "        print('Perro')"
   ]
  },
  {
   "cell_type": "markdown",
   "metadata": {},
   "source": [
    "En el ejemplo anterior sólo se va a imprimir la palabra si `x` es igual a 3 y `y` es diferente a 10. Si alguna de las dos condiciones es falsa entonces no va a suceder."
   ]
  },
  {
   "cell_type": "markdown",
   "metadata": {},
   "source": [
    "### 2.3 `elif` y `else`"
   ]
  },
  {
   "cell_type": "markdown",
   "metadata": {},
   "source": [
    "Cuando tenemos varias opciones podemos utilizar el comando `elif` que en otros lenguajes de programación se suele llamar `else if`.\n",
    "\n",
    "`elif` se utiliza para probar otra condición cuando la primera falló. Un `elif` siempre tiene que ir después de un `if`"
   ]
  },
  {
   "cell_type": "code",
   "execution_count": 32,
   "metadata": {},
   "outputs": [
    {
     "name": "stdout",
     "output_type": "stream",
     "text": [
      "El número es mayor que 5\n"
     ]
    }
   ],
   "source": [
    "x = 10\n",
    "\n",
    "if x <= 5:\n",
    "    print('El número es menor o igual a 5')\n",
    "elif x > 5:\n",
    "    print('El número es mayor que 5')"
   ]
  },
  {
   "cell_type": "markdown",
   "metadata": {},
   "source": [
    "Podemos poner cuantos `elif` como queramos. A esto le llamamos una cadena de `if`s"
   ]
  },
  {
   "cell_type": "code",
   "execution_count": 33,
   "metadata": {},
   "outputs": [
    {
     "name": "stdout",
     "output_type": "stream",
     "text": [
      "El número es igual a 3\n"
     ]
    }
   ],
   "source": [
    "x = 3\n",
    "\n",
    "if x < 0:\n",
    "    print(\"El número es negativo\")\n",
    "elif x > 10:\n",
    "    print(\"El número es mayor que 10\")\n",
    "elif x == 3:\n",
    "    print(\"El número es igual a 3\")"
   ]
  },
  {
   "cell_type": "markdown",
   "metadata": {},
   "source": [
    "Si la condición se cumple en cualquier condición de la cadena entonces ya no se revisan las demás condiciones, aún si son verdaderas."
   ]
  },
  {
   "cell_type": "code",
   "execution_count": 34,
   "metadata": {},
   "outputs": [
    {
     "name": "stdout",
     "output_type": "stream",
     "text": [
      "El número es positivo\n"
     ]
    }
   ],
   "source": [
    "x = 3 \n",
    "\n",
    "if x < 0:\n",
    "    print(\"El número es negativo\")\n",
    "elif x >0:\n",
    "    print(\"El número es positivo\")\n",
    "elif x == 3:\n",
    "    print(\"El número es igual a 3\")"
   ]
  },
  {
   "cell_type": "markdown",
   "metadata": {},
   "source": [
    "En el ejemplo anterior aunque la última condición era cierta, como el primer `elif` fue cierto entonces ya no se revisaron los demás. Si queremos que revise la condición en lugar de saltarla entonces podemos iniciar otra cadena de `if`s en lugar de usar `elif`"
   ]
  },
  {
   "cell_type": "code",
   "execution_count": 35,
   "metadata": {},
   "outputs": [
    {
     "name": "stdout",
     "output_type": "stream",
     "text": [
      "El número es positivo\n",
      "El número es igual a 3\n"
     ]
    }
   ],
   "source": [
    "x = 3\n",
    "\n",
    "if x < 0:\n",
    "    print(\"El número es negativo\")\n",
    "elif x >0:\n",
    "    print(\"El número es positivo\")\n",
    "if x == 3:\n",
    "    print(\"El número es igual a 3\")"
   ]
  },
  {
   "cell_type": "markdown",
   "metadata": {},
   "source": [
    "Por último, en caso de que ninguna condición de la cadena se cumpla, podemos usar el comando `else`. `else` no tiene condición. `else` se puede utilizar después de un `if` o un `elif`. No necesariamente se necesita tener `elif` con solo `if` es suficiente. "
   ]
  },
  {
   "cell_type": "code",
   "execution_count": 36,
   "metadata": {},
   "outputs": [
    {
     "name": "stdout",
     "output_type": "stream",
     "text": [
      "El número no es igual a 5\n"
     ]
    }
   ],
   "source": [
    "x = 3\n",
    "\n",
    "if x == 5:\n",
    "    print('El número es igual a 5')\n",
    "else:\n",
    "    print('El número no es igual a 5')"
   ]
  },
  {
   "cell_type": "markdown",
   "metadata": {},
   "source": [
    "Pero es muy común usarlo dentro de cadenas de if"
   ]
  },
  {
   "cell_type": "code",
   "execution_count": 37,
   "metadata": {},
   "outputs": [
    {
     "name": "stdout",
     "output_type": "stream",
     "text": [
      "El número no es negativo, mayor a 10 o igual a 5\n"
     ]
    }
   ],
   "source": [
    "x = 3\n",
    "\n",
    "if x < 0:\n",
    "    print(\"El número es negativo\")\n",
    "elif x > 10:\n",
    "    print(\"El número es mayor que 10\")\n",
    "elif x == 5:\n",
    "    print(\"El número es igual a 5\")\n",
    "else:\n",
    "    print('El número no es negativo, mayor a 10 o igual a 5')"
   ]
  },
  {
   "cell_type": "markdown",
   "metadata": {},
   "source": [
    "# Ejercicios"
   ]
  },
  {
   "cell_type": "markdown",
   "metadata": {},
   "source": [
    "1. Escribe un programa que calcule el área o perímetro (dar la opción de escoger al usuario) de un círculo, no olvides utilizar `math` para obtener el valor de pi.\n",
    "1. Escribe un programa que pida dos enteros y diga si el primero es divisible entre el segundo\n",
    "1. Escribe un programa que pregunte la edad y país de nacionalidad de una persona y decida si puede votar. Necesitan tener 18 años y que el país de nacionalidad sea 'Mexico'.\n",
    "1. Una persona puede entrar a un partido de futbol si tiene al menos 11 años. Las personas de 18 o menos y 60 o más solo pagan \\$50 MXN mientras que los demás pagan \\$100MXN. Escribe un programa que determine si alguien puede pasar, y el precio de su boleto.\n",
    "1. Escribe un programa que pida tres números e imprima el más grande de los tres\n",
    "1. Escribe un programa que pregunte la temperatura en grados Centígrados y describa el clima basado en los siguientes parámetros:\n",
    "    1. < 0 Helado\n",
    "    1. 1-10 Muy Frío\n",
    "    1. 10-20 Frío\n",
    "    1. 20-30 Normal\n",
    "    1. 30-40 Caliente\n",
    "    1. Mayor que 40 Muy Caliente\n",
    "    \n"
   ]
  },
  {
   "cell_type": "code",
   "execution_count": null,
   "metadata": {},
   "outputs": [],
   "source": []
  }
 ],
 "metadata": {
  "kernelspec": {
   "display_name": "Python 3",
   "language": "python",
   "name": "python3"
  },
  "language_info": {
   "codemirror_mode": {
    "name": "ipython",
    "version": 3
   },
   "file_extension": ".py",
   "mimetype": "text/x-python",
   "name": "python",
   "nbconvert_exporter": "python",
   "pygments_lexer": "ipython3",
   "version": "3.6.5"
  }
 },
 "nbformat": 4,
 "nbformat_minor": 2
}
