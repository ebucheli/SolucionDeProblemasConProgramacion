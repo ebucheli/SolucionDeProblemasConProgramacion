{
 "cells": [
  {
   "cell_type": "markdown",
   "metadata": {},
   "source": [
    "# Programación Orientada a Objetos\n",
    "\n",
    "Uno de los conceptos más importantes en Python es la **Programación Orientada a Objetos**. Normalmente abreviado como **OOP** por su nombre en inglés *(Object Oriented Programming)*.\n",
    "\n",
    "La programación orientada a objetos es una manera de programar donde se crean **Objetos** los cuales pueden guardar **atributos** (variables) y **métodos** (funciones).\n",
    "\n",
    "La manera en la que implementamos objetos es a través de una clase. Podemos pensar en una clase como el *modelo* o *esquema* de un objeto. Un objeto tiene que pertenecer a una clase y puede haber muchos objetos para una sola clase.\n",
    "\n",
    "### Implementado una clase\n",
    "\n",
    "Esto tal vez suena confuso así que empecemos con un ejemplo para hacerlo más claro."
   ]
  },
  {
   "cell_type": "code",
   "execution_count": 8,
   "metadata": {},
   "outputs": [],
   "source": [
    "class MyClass():\n",
    "    x = 5\n",
    "    \n",
    "    def do_something(self):\n",
    "        print(\"Hola desde una clase\")"
   ]
  },
  {
   "cell_type": "markdown",
   "metadata": {},
   "source": [
    "En la celda anterior definimos una clase y le agregamos una variable y una función (notarás que a la función le dimos un argumento `self` que no estamos usando, en un momento veremos por qué es necesario esto). \n",
    "\n",
    "Ahora que tenemos una clase, podemos definir cuantos objetos queramos que tengan la estructura de esta clase.\n",
    "\n",
    "En nuestro caso definiremos un objeto llamado `p1` que será una instancia de la clase `MyClass`."
   ]
  },
  {
   "cell_type": "code",
   "execution_count": 9,
   "metadata": {},
   "outputs": [],
   "source": [
    "p1 = MyClass()"
   ]
  },
  {
   "cell_type": "markdown",
   "metadata": {},
   "source": [
    "Como `p1` es un objeto de la clase `MyClass`, puedo acceder a las variables (atributos) y funciones (métodos cuando se tratan de una clase) de la clase MyClass desde el objeto `p1`. \n",
    "\n",
    "Accedemos a estas variables con el nombre del objeto y el nombre del atributo o método separados por un punto."
   ]
  },
  {
   "cell_type": "code",
   "execution_count": 11,
   "metadata": {},
   "outputs": [
    {
     "name": "stdout",
     "output_type": "stream",
     "text": [
      "5\n",
      "Hola desde una clase\n"
     ]
    }
   ],
   "source": [
    "print(p1.x)\n",
    "p1.do_something()"
   ]
  },
  {
   "cell_type": "markdown",
   "metadata": {},
   "source": [
    "Claro que lo anterior no es muy interesante porque todos los objetos que cree van a ser iguales.\n",
    "\n",
    "Veamos otro ejemplo, ahora con una clase llamada `Person` que nos ayude a guardar objetos que representen personas.\n",
    "\n",
    "Definiremos la clase primero e iremos analizando cada parte del código conforme avancemos."
   ]
  },
  {
   "cell_type": "code",
   "execution_count": 59,
   "metadata": {},
   "outputs": [],
   "source": [
    "class Person():\n",
    "    # Con __init__ le decimos a Python qué hacer cuando creamos el objeto\n",
    "    def __init__(self, first_name, last_name, age):\n",
    "        self.first_name = first_name\n",
    "        self.last_name = last_name\n",
    "        self.age = age\n",
    "        self.is_alive = \"viva\"\n",
    "    \n",
    "    # Ahora podemos agregar funciones o métodos que hagan cosas interesantes\n",
    "    # con nuestros objetos. Nota que siempre tengo que pasar al principio\n",
    "    # el parámetro self\n",
    "    def kill(self):\n",
    "        self.is_alive = \"muerta\"\n",
    "    \n",
    "    def revive(self):\n",
    "        self.is_alive = \"viva\"\n",
    "        \n",
    "    def birth_year(self):\n",
    "        return 2019 - self.age"
   ]
  },
  {
   "cell_type": "markdown",
   "metadata": {},
   "source": [
    "Ya que definimos la clase, necesitamos crear algunos objetos de esa clase para experimentar. Imprimimos algunos de los valores para revisar."
   ]
  },
  {
   "cell_type": "code",
   "execution_count": 60,
   "metadata": {},
   "outputs": [
    {
     "name": "stdout",
     "output_type": "stream",
     "text": [
      "Nombre de la primera persona: Rachel\n",
      "Apellido de la segunda persona: Deckard\n"
     ]
    }
   ],
   "source": [
    "persona1 = Person(\"Rachel\",\"Tyrell\",30)\n",
    "persona2 = Person(\"Rick\",\"Deckard\",28)\n",
    "\n",
    "print(\"Nombre de la primera persona:\",persona1.first_name)\n",
    "print(\"Apellido de la segunda persona:\",persona2.last_name)"
   ]
  },
  {
   "cell_type": "markdown",
   "metadata": {},
   "source": [
    "### Usando \\_\\_init\\_\\_() para inicializar una clase"
   ]
  },
  {
   "cell_type": "markdown",
   "metadata": {},
   "source": [
    "Para que Python sepa qué hacer cuando se crean los objetos, tenemos que incluir una función con el nombre `__init__()` en la clase. Ahí, después de agregar la variable `self` (que es una referencia al objeto) podemos agregar las variables con las que se llama a la clase. En nuestro caso, usamos `first_name`, `last_name` y `age`. Puedes regresar un par de celdas a la definición de la clase `Person` para ver como implementamos esto."
   ]
  },
  {
   "cell_type": "markdown",
   "metadata": {},
   "source": [
    "### Usando los métodos de la clase"
   ]
  },
  {
   "cell_type": "markdown",
   "metadata": {},
   "source": [
    "Podrás ver también en la definición de la clase `Person` que creamos otros tres métodos `kill`, `revive` y `birth_year`. Cada uno de ellos hace algo diferente, dos de ellos solo guardan un nuevo valor dentro del objeto y el otro regresa un valor como una función común y corriente.\n",
    "\n",
    "Cuando definimos `__init__()` agregamos una cuarta variable `is_alive` que nos dice si la persona está viva o muerta. En este caso siempre que se crea una persona se da de alta como viva, es decir `is_alive=\"viva\"`. Pero con `kill` y `revive` podemos cambiar esto."
   ]
  },
  {
   "cell_type": "code",
   "execution_count": 61,
   "metadata": {},
   "outputs": [
    {
     "name": "stdout",
     "output_type": "stream",
     "text": [
      "La persona 1 está viva\n",
      "La persona 2 está viva\n",
      "\n",
      "\n",
      "Después de ejecutar person1.kill(), la persona 1 está muerta\n",
      "Después de ejecutar person1.kill(), la persona 2 está viva\n"
     ]
    }
   ],
   "source": [
    "### Primero vemos el status de las personas\n",
    "print(\"La persona 1 está\",persona1.is_alive)\n",
    "print(\"La persona 2 está\",persona2.is_alive)\n",
    "\n",
    "print('\\n')\n",
    "### Y ahora ejecutamos el método kill() para matar a la persona 1\n",
    "\n",
    "persona1.kill()\n",
    "print(\"Después de ejecutar person1.kill(), la persona 1 está\",persona1.is_alive)\n",
    "print(\"Después de ejecutar person1.kill(), la persona 2 está\",persona2.is_alive)"
   ]
  },
  {
   "cell_type": "markdown",
   "metadata": {},
   "source": [
    "Cuando ejecutamos el comando `person1.kill()` el estatus de `is_alive` de la persona 1 cambió a \"muerta\" pero la persona2 se quedó igual porque no se lo aplicamos. También definimos el método `revive()` para restaurar este status"
   ]
  },
  {
   "cell_type": "code",
   "execution_count": 64,
   "metadata": {},
   "outputs": [
    {
     "name": "stdout",
     "output_type": "stream",
     "text": [
      "La persona 1 está muerta\n",
      "Después de ejecutar person1.revive(), la persona 1 está viva\n"
     ]
    }
   ],
   "source": [
    "print(\"La persona 1 está\",persona1.is_alive)\n",
    "\n",
    "persona1.revive()\n",
    "\n",
    "print(\"Después de ejecutar person1.revive(), la persona 1 está\",persona1.is_alive)"
   ]
  },
  {
   "cell_type": "markdown",
   "metadata": {},
   "source": [
    "También podemos usar funciones que regresen valores como `birth_year()`."
   ]
  },
  {
   "cell_type": "code",
   "execution_count": 65,
   "metadata": {},
   "outputs": [
    {
     "name": "stdout",
     "output_type": "stream",
     "text": [
      "La persona 1 nació aproximadamente en el año 1989\n",
      "La persona 2 nació aproximadamente en el año 1991\n"
     ]
    }
   ],
   "source": [
    "aprox_birth_p1 = persona1.birth_year()\n",
    "print(\"La persona 1 nació aproximadamente en el año\",aprox_birth_p1)\n",
    "\n",
    "aprox_birth_p2 = persona2.birth_year()\n",
    "print(\"La persona 2 nació aproximadamente en el año\",aprox_birth_p2)"
   ]
  },
  {
   "cell_type": "markdown",
   "metadata": {},
   "source": [
    "Podemos también cambiar directo el valor de un atributo del objeto."
   ]
  },
  {
   "cell_type": "code",
   "execution_count": 66,
   "metadata": {},
   "outputs": [
    {
     "name": "stdout",
     "output_type": "stream",
     "text": [
      "Sean\n"
     ]
    }
   ],
   "source": [
    "persona1.first_name = \"Sean\"\n",
    "\n",
    "print(persona1.first_name)"
   ]
  },
  {
   "cell_type": "markdown",
   "metadata": {},
   "source": [
    "### Ejercicios"
   ]
  },
  {
   "cell_type": "markdown",
   "metadata": {},
   "source": [
    "1.- Escribe una clase de nombre `Stringr` con dos métodos:\n",
    "\n",
    "El primero se debe llamar `get_String()`que toma como argumento un string y lo guarda en un atributo llamado `mystr` del objeto.\n",
    "\n",
    "El segundo se debe llamar `print_str()` y lo que hace es imprimir `\"Tu string es <el valor de mystr\">`\n",
    "\n",
    "Ejemplo:\n",
    "\n",
    "Si corremos el código,\n",
    "```python\n",
    "# Creamos el objeto\n",
    "my_object = Stringr()\n",
    "# Ejecutamos el método get_String()\n",
    "my_object.get_String(\"Replicant\")\n",
    "# Ejecutamos el método print_str()\n",
    "my_object.print_str()\n",
    "```\n",
    "Entonces se debe imprimir:\n",
    "\n",
    "    Tu string es Replicant"
   ]
  },
  {
   "cell_type": "code",
   "execution_count": null,
   "metadata": {},
   "outputs": [],
   "source": []
  },
  {
   "cell_type": "markdown",
   "metadata": {},
   "source": [
    "2.- Crea una clase llamada Rectangle. Cuando crees un objeto en esta clase, se tiene que especificar el ancho y el largo. Agrega los métodos `area` y `perimeter`, cada uno de ellos, deben de regresar el área y perímetro del rectángulo creado."
   ]
  },
  {
   "cell_type": "code",
   "execution_count": null,
   "metadata": {},
   "outputs": [],
   "source": []
  },
  {
   "cell_type": "markdown",
   "metadata": {},
   "source": [
    "3.- Vuelve a escribir la clase `Person` pero agrega el método `birtday()` que le agregue un año a la edad de la persona."
   ]
  },
  {
   "cell_type": "code",
   "execution_count": null,
   "metadata": {},
   "outputs": [],
   "source": []
  },
  {
   "cell_type": "markdown",
   "metadata": {},
   "source": [
    "4.- Crea una clase `Rocket` donde inicialicemos con la posición (coordeneadas `x` y `y`) de un cohete y que tenga un método `move()` que tome comor argumento alguna de las palabras (`left`,`right`,`up` o `down`) y cambie la posición del cohete, y `coordinates()` que regrese las coordenadas actuales del cohete.\n",
    "\n",
    "Ejemplo:\n",
    "\n",
    "Si ejecutamos el código,\n",
    "```python\n",
    "rocket1 = Rocket(0,0)\n",
    "rocket1.move('right')\n",
    "print(\"El cohete se encuentra en las coordenadas:\", rocket1.coordinates())\n",
    "```\n",
    "Entonces el programa imprime,\n",
    "    \n",
    "    El cohete se encuentra en las coordenadas: (1,0)"
   ]
  },
  {
   "cell_type": "code",
   "execution_count": null,
   "metadata": {},
   "outputs": [],
   "source": []
  }
 ],
 "metadata": {
  "kernelspec": {
   "display_name": "Python 3",
   "language": "python",
   "name": "python3"
  },
  "language_info": {
   "codemirror_mode": {
    "name": "ipython",
    "version": 3
   },
   "file_extension": ".py",
   "mimetype": "text/x-python",
   "name": "python",
   "nbconvert_exporter": "python",
   "pygments_lexer": "ipython3",
   "version": "3.6.5"
  }
 },
 "nbformat": 4,
 "nbformat_minor": 2
}
